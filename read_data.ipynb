{
 "cells": [
  {
   "cell_type": "code",
   "execution_count": 1,
   "id": "47800ac0",
   "metadata": {},
   "outputs": [],
   "source": [
    "# Import necessary packages\n",
    "import pandas as pd\n",
    "from tqdm import tqdm"
   ]
  },
  {
   "cell_type": "code",
   "execution_count": 2,
   "id": "23dbcf06",
   "metadata": {},
   "outputs": [],
   "source": [
    "# Read competition data\n",
    "competitions = pd.read_json('../open-data/data/competitions.json')\n",
    "\n",
    "# Filter the data to retain only men's football data\n",
    "competitions = competitions[competitions.competition_gender == 'male']"
   ]
  },
  {
   "cell_type": "markdown",
   "id": "03227f01",
   "metadata": {},
   "source": [
    "## Code for getting matches data"
   ]
  },
  {
   "cell_type": "code",
   "execution_count": 4,
   "id": "a974c481",
   "metadata": {},
   "outputs": [],
   "source": [
    "path = '../open-data/data/' # PATH TO THE DATA FOLDER IN OPEN-DATA\n",
    "\n",
    "# Read the matches data one by one\n",
    "dfs = []\n",
    "\n",
    "for i, row in competitions.iterrows():\n",
    "    filepath = path + 'matches/' + str(row['competition_id']) + '/' + str(row['season_id']) + '.json'\n",
    "    df = pd.read_json(filepath)\n",
    "    \n",
    "    # Retain competition and season ids\n",
    "    df['competition_id'] = row['competition_id']\n",
    "    df['season_id'] = row['season_id']\n",
    "    dfs.append(df)\n",
    "    \n",
    "matches = pd.concat(dfs)\n",
    "matches.match_id= matches.match_id.astype(int)\n",
    "\n",
    "matches.home_team= matches.home_team.apply(lambda x: x['home_team_name'])\n",
    "matches.away_team= matches.away_team.apply(lambda x: x['away_team_name'])\n",
    "\n",
    "# matches.reset_index(drop= True).to_feather('matches.feather')"
   ]
  },
  {
   "cell_type": "code",
   "execution_count": 5,
   "id": "bce860c6",
   "metadata": {},
   "outputs": [
    {
     "name": "stderr",
     "output_type": "stream",
     "text": [
      "Processing Rows: 100%|██████████████████████████████████████████| 1604/1604 [39:17<00:00,  1.47s/it]\n"
     ]
    }
   ],
   "source": [
    "# Read events data using match_ids\n",
    "\n",
    "event = []\n",
    "\n",
    "for i, row in tqdm(matches.iterrows(), total=len(matches), desc=\"Processing Rows\", ncols=100):\n",
    "    filepath = path + 'events/' + str(row['match_id']) + '.json'\n",
    "    df = pd.read_json(filepath)\n",
    "    \n",
    "    # Retain competition, season, and match ids\n",
    "    df['match_id'] = row['match_id']\n",
    "    df['competition_id'] = row['competition_id']\n",
    "    df['season_id'] = row['season_id']\n",
    "    \n",
    "\n",
    "    event.append(df)\n",
    "\n",
    "events = pd.concat(event)\n",
    "events.rename({'index': 'shot_id'}, axis= 1, inplace= True)"
   ]
  },
  {
   "cell_type": "code",
   "execution_count": 6,
   "id": "c1ac3dd8",
   "metadata": {},
   "outputs": [],
   "source": [
    "events.possession_team = events.possession_team.apply(lambda x: x['name'])\n",
    "\n",
    "# Filter the events and keep only the shots\n",
    "events.dropna(subset= 'shot', inplace= True)\n",
    "\n",
    "# Save the necessary attribute in shots variable\n",
    "shots = events[['shot_id', 'match_id', 'competition_id', 'season_id', 'possession_team', 'player', 'timestamp', 'period', 'minute', 'second', 'position', 'location', 'shot']].dropna(subset= 'shot')"
   ]
  },
  {
   "cell_type": "code",
   "execution_count": null,
   "id": "962b1107",
   "metadata": {},
   "outputs": [],
   "source": [
    "# Save the data into csv or feather files\n",
    "# Preferrably feather for efficiency \n",
    "\n",
    "# events.reset_index(drop= True).to_csv('events.csv')\n",
    "events.reset_index(drop= True).to_feather('events.feather')\n",
    "\n",
    "# shots.to_csv('shots_data.csv')\n",
    "shots.reset_index(drop= True).to_feather('shots_data.feather')"
   ]
  }
 ],
 "metadata": {
  "kernelspec": {
   "display_name": "Python 3 (ipykernel)",
   "language": "python",
   "name": "python3"
  },
  "language_info": {
   "codemirror_mode": {
    "name": "ipython",
    "version": 3
   },
   "file_extension": ".py",
   "mimetype": "text/x-python",
   "name": "python",
   "nbconvert_exporter": "python",
   "pygments_lexer": "ipython3",
   "version": "3.9.6"
  }
 },
 "nbformat": 4,
 "nbformat_minor": 5
}
